{
 "cells": [
  {
   "cell_type": "markdown",
   "metadata": {},
   "source": [
    "## 2. Learning a PCFG from a Treebank "
   ]
  },
  {
   "cell_type": "markdown",
   "metadata": {},
   "source": [
    "### 2.1. Random PCFG Generation"
   ]
  },
  {
   "cell_type": "code",
   "execution_count": 1,
   "metadata": {},
   "outputs": [],
   "source": [
    "import nltk\n",
    "from nltk.grammar import Nonterminal\n",
    "from nltk.grammar import toy_pcfg2\n",
    "from nltk.probability import DictionaryProbDist\n",
    "\n",
    "\n",
    "def pcfg_generate(grammar):\n",
    "    start = grammar.start()\n",
    "    items =  pcfg_generate_one(grammar, start)\n",
    "    tree = pcfg_generate_all(grammar, start, items)\n",
    "    return tree\n",
    "\n",
    "\n",
    "def pcfg_generate_all(grammar, item, items):\n",
    "    if all(isinstance(ter, str) for ter in items):\n",
    "        tree = (item,) + items\n",
    "\n",
    "    elif all(isinstance(ter, Nonterminal) for ter in items):\n",
    "        subtrees = ()\n",
    "        for ter in items:\n",
    "            prods = pcfg_generate_one(grammar, ter)\n",
    "            subtree = pcfg_generate_all(grammar,ter, prods)\n",
    "            if len(subtrees) == 0:\n",
    "                subtrees = subtree\n",
    "            else:\n",
    "                subtrees = subtrees, subtree\n",
    "        if len(items) > 1:\n",
    "            tree = (item,) + subtrees\n",
    "        else:\n",
    "            tree = item, subtrees\n",
    "    else:\n",
    "        print(\"MY thesis go wrong\")\n",
    "    return tree \n",
    "        \n",
    "def pcfg_generate_one(grammar, item):\n",
    "    prod = grammar.productions(item)\n",
    "    dict = {}\n",
    "    for pr in prod:\n",
    "        dict[pr.rhs()] = pr.prob()\n",
    "    probdist = DictionaryProbDist(dict)\n",
    "    return probdist.generate()"
   ]
  },
  {
   "cell_type": "code",
   "execution_count": 2,
   "metadata": {
    "scrolled": true
   },
   "outputs": [
    {
     "data": {
      "text/plain": [
       "(S, (NP, (Name, 'Jack')), (VP, (V, 'ate')))"
      ]
     },
     "execution_count": 2,
     "metadata": {},
     "output_type": "execute_result"
    }
   ],
   "source": [
    "grammar = toy_pcfg2\n",
    "pcfg_generate(grammar)"
   ]
  },
  {
   "cell_type": "markdown",
   "metadata": {},
   "source": [
    "#### validation "
   ]
  },
  {
   "cell_type": "markdown",
   "metadata": {},
   "source": [
    "#### 2.1.1"
   ]
  },
  {
   "cell_type": "code",
   "execution_count": 3,
   "metadata": {},
   "outputs": [],
   "source": [
    "f = open(\"toy_pcfg2.gen\", \"w\")\n",
    "for i in range(1000):\n",
    "    tree = pcfg_generate(grammar)\n",
    "    if i < 999:\n",
    "        f.write(str(tree) + '\\t')\n",
    "    else: \n",
    "        f.write(str(tree))\n",
    "f.close()"
   ]
  },
  {
   "cell_type": "markdown",
   "metadata": {},
   "source": [
    "#### 2.1.2"
   ]
  },
  {
   "cell_type": "code",
   "execution_count": 6,
   "metadata": {},
   "outputs": [
    {
     "name": "stdout",
     "output_type": "stream",
     "text": [
      "[S -> NP VP [1.0], NP -> NP PP [0.303398], NP -> Name [0.282767], Name -> 'Bob' [0.479828], PP -> P NP [1.0], P -> 'under' [0.399369], NP -> Det N [0.413835], Det -> 'a' [0.312023], N -> 'cookie' [0.140762], Name -> 'Jack' [0.520172], P -> 'with' [0.600631], Det -> 'the' [0.410557], N -> 'table' [0.129619], VP -> V NP [0.59292], V -> 'ate' [0.509], N -> 'hill' [0.510264], Det -> 'my' [0.277419], V -> 'saw' [0.213], VP -> V [0.390364], V -> 'ran' [0.278], N -> 'telescope' [0.122581], VP -> VP PP [0.0167158], N -> 'boy' [0.0967742]]\n"
     ]
    }
   ],
   "source": [
    "from nltk.grammar import Production, PCFG\n",
    "from nltk.grammar import  ProbabilisticProduction\n",
    "from nltk import Tree, Nonterminal\n",
    "\n",
    "def from_tree_to_pcfg(tree, lcount, pcount):\n",
    "    prod = tree.productions()\n",
    "    for p in prod:\n",
    "        lcount[p.lhs()] = lcount.get(p.lhs(), 0) + 1\n",
    "        pcount[p] = pcount.get(p, 0) + 1\n",
    "\n",
    "def from_trees_to_pcfg():\n",
    "    f = open(\"toy_pcfg2.gen\", \"r\")\n",
    "    lcount = {}\n",
    "    pcount = {}\n",
    "    for tree in f.read().split('\\t'):\n",
    "        tree = tree.replace(',', '')\n",
    "        tree = tree.replace('\\'', '')\n",
    "        tree = Tree.fromstring(tree)\n",
    "        from_tree_to_pcfg(tree, lcount, pcount)\n",
    "    prods = [\n",
    "        ProbabilisticProduction(p.lhs(), p.rhs(), prob=pcount[p] / lcount[p.lhs()])\n",
    "        for p in pcount\n",
    "    ]\n",
    "    return prods\n",
    "\n",
    "\n",
    "p = from_trees_to_pcfg()\n",
    "print(p)"
   ]
  },
  {
   "cell_type": "markdown",
   "metadata": {},
   "source": [
    "#### 2.1.3"
   ]
  },
  {
   "cell_type": "code",
   "execution_count": 72,
   "metadata": {},
   "outputs": [],
   "source": [
    "import collections\n",
    "\n",
    "def dict_with_rhs_sets(P):\n",
    "    dic = {}\n",
    "    for p in P:\n",
    "        dic[p.lhs()] = set()\n",
    "    for p in P:\n",
    "        dic[p.lhs()].update(p.rhs())\n",
    "    return dic\n",
    "\n",
    "def dict_with_p_sets(P):\n",
    "    dic = {}\n",
    "    for p in P:\n",
    "        dic[p.lhs()] = set()\n",
    "    for p in P:\n",
    "        dic[p.lhs()].update([p])\n",
    "    return dic\n",
    "\n",
    "def smooth_prods(P, Q, eps = 1e-10): ## params: P Q lists of Productions in any kind\n",
    "    dicp = dict_with_rhs_sets(P)\n",
    "    dicq = dict_with_rhs_sets(Q)\n",
    "    dic_p = dict_with_p_sets(P)\n",
    "    dic_q = dict_with_p_sets(Q)\n",
    "    p_2_n = []\n",
    "    q_2_n = []\n",
    "    for k in dicp:\n",
    "        if k in dicq:\n",
    "            p_2_n += smooth_prod(k, dic_p[k], dicq[k]-dicp[k], eps)\n",
    "        else: \n",
    "            print(k)\n",
    "    for k in dicq:\n",
    "        if k in dicp:\n",
    "            q_2_n += smooth_prod(k, dic_q[k], dicp[k]-dicq[k], eps)\n",
    "    return p_2_n, q_2_n \n",
    "\n",
    "\n",
    "def smooth_prod(lhs, P, q_m_p, eps):\n",
    "    p_2_n = []\n",
    "    pc = (len(q_m_p)/len(P)) * eps\n",
    "    p_2_n += [ProbabilisticProduction(q.lhs(), q.rhs(), prob = q.prob()-pc) for q in P]\n",
    "    p_2_n +=[ProbabilisticProduction(lhs, [p], prob = eps) for p in q_m_p if isinstance(p, Nonterminal)]\n",
    "    ##p_2_n += [ProbabilisticProduction(lhs, [p], prob = eps) for p in q_m_p if isinstance(p, Nonterminal)]\n",
    "    return p_2_n\n",
    "\n"
   ]
  },
  {
   "cell_type": "code",
   "execution_count": 68,
   "metadata": {},
   "outputs": [
    {
     "name": "stdout",
     "output_type": "stream",
     "text": [
      "[S -> NP VP [1.0], VP -> V NP [0.59], VP -> V [0.4], VP -> VP PP [0.01], NP -> Det N [0.41], NP -> Name [0.28], NP -> NP PP [0.31], PP -> P NP [1.0], V -> 'saw' [0.21], V -> 'ate' [0.51], V -> 'ran' [0.28], N -> 'boy' [0.11], N -> 'cookie' [0.12], N -> 'table' [0.13], N -> 'telescope' [0.14], N -> 'hill' [0.5], Name -> 'Jack' [0.52], Name -> 'Bob' [0.48], P -> 'with' [0.61], P -> 'under' [0.39], Det -> 'the' [0.41], Det -> 'a' [0.31], Det -> 'my' [0.28]]\n",
      "number of rules in the toy_pcfg2 grammar: 23\n"
     ]
    }
   ],
   "source": [
    "Q = grammar.productions()\n",
    "print(Q)\n",
    "print('number of rules in the toy_pcfg2 grammar: ' + str(len(Q)))"
   ]
  },
  {
   "cell_type": "markdown",
   "metadata": {},
   "source": [
    "The number of rules in this toy grammar is very low, we can expect to fully understand it  while reading 1000 trees that it's generate."
   ]
  },
  {
   "cell_type": "code",
   "execution_count": 60,
   "metadata": {},
   "outputs": [],
   "source": [
    "p_n, q_n = smooth_prods(p, Q)"
   ]
  },
  {
   "cell_type": "code",
   "execution_count": 61,
   "metadata": {},
   "outputs": [
    {
     "name": "stdout",
     "output_type": "stream",
     "text": [
      "[0.0, 0.00010231040115721637, 5.9038804549424884e-08, 0.0, 0.00018394995638364164, 1.8897047505133432e-05, 0.003766590437115344, 0.001996509654262641, 2.9468211797414184e-05]\n"
     ]
    }
   ],
   "source": [
    "import math\n",
    "## params: P:= list(Production), Q:= list(Production), all the productions must be in both lists\n",
    "def KL_divergences(P, Q):\n",
    "    dicp = dict_with_p_sets(P)\n",
    "    dicq = dict_with_p_sets(Q)\n",
    "    kls = []\n",
    "    for k in dicp:\n",
    "        if k in dicq:\n",
    "            kls.append(KL_divergence(dicp[k], dicq[k]))\n",
    "        else:\n",
    "            kls.append(math.inf)\n",
    "    return kls\n",
    "\n",
    "def KL_divergence(P, Q):\n",
    "    kl = 0\n",
    "    for p in P:\n",
    "        for q in Q:\n",
    "            if p.lhs() == q.lhs() and p.rhs() == q.rhs():\n",
    "                kl += p.prob()*(math.log(p.prob())-math.log(q.prob()))\n",
    "    return kl\n",
    "\n",
    "print(KL_divergences(p_n, q_n))"
   ]
  },
  {
   "cell_type": "markdown",
   "metadata": {},
   "source": [
    "As we can see, the kl divergence of all the distributions very low, what means that 1000 trees give us a good understanding on the toy_pcfg2 grammar. If the result was totaly high, our main suspect were the procedure generate of DictionaryProbDist class."
   ]
  },
  {
   "cell_type": "markdown",
   "metadata": {},
   "source": [
    "### 2.2 Learn a PCFG from a Treebank "
   ]
  },
  {
   "cell_type": "code",
   "execution_count": 4,
   "metadata": {},
   "outputs": [],
   "source": [
    "from nltk import corpus\n",
    "from nltk.corpus import LazyCorpusLoader, BracketParseCorpusReader\n",
    "\n",
    "def simplify_functional_tag(tag):\n",
    "    if '-' in tag:\n",
    "        tag = tag.split('-')[0]\n",
    "    return tag\n",
    "\n",
    "treebank = LazyCorpusLoader('treebank/combined', BracketParseCorpusReader, r'wsj_.*\\.mrg')\n",
    "\n",
    "def pcfg_learn(treebank, n):\n",
    "    pcount = {}\n",
    "    lcount = {}\n",
    "    num_of_int_node = 0\n",
    "    for i in range(n):\n",
    "        tree = treebank.parsed_sents()[i]\n",
    "        prods = tree_to_productions(tree)\n",
    "        for p in prods:\n",
    "            pcount[p] = pcount.get(p, 0) + 1\n",
    "            lcount[p.lhs()] = lcount.get(p.lhs(), 0) + 1\n",
    "            num_of_int_node += 1\n",
    "    productions = [ProbabilisticProduction(p.lhs(), p.rhs(), prob=pcount[p] / lcount[p.lhs()])\n",
    "        for p in pcount]\n",
    "    freqs = [pcount[p] for p in pcount]\n",
    "    return freqs, PCFG(Nonterminal('S'), productions), num_of_int_node\n",
    "        \n",
    "def get_tag(tree):\n",
    "    if isinstance(tree, Tree):\n",
    "        return Nonterminal(simplify_functional_tag(tree.label()))\n",
    "    else:\n",
    "        return tree\n",
    "\n",
    "def tree_to_production(tree):\n",
    "    return Production(get_tag(tree), [get_tag(child) for child in tree])\n",
    "\n",
    "def tree_to_productions(tree):\n",
    "    yield tree_to_production(tree)\n",
    "    for sub in tree.subtrees():\n",
    "        for n, child in enumerate(sub):\n",
    "            if isinstance(child, Tree):\n",
    "                if len(list(child.subtrees(filter=lambda x:x.label()=='-NONE-')))==len(child.leaves()):\n",
    "                    continue\n",
    "                else:\n",
    "                    for prod in tree_to_productions(child):\n",
    "                        yield prod"
   ]
  },
  {
   "cell_type": "code",
   "execution_count": 63,
   "metadata": {},
   "outputs": [
    {
     "name": "stdout",
     "output_type": "stream",
     "text": [
      "number of rules learned from the trees: 2279\n",
      "number of interior nodes in the trees: 6817931\n"
     ]
    }
   ],
   "source": [
    "n = 200\n",
    "freqs,  pcfg, int_nodes  = pcfg_learn(treebank, n)\n",
    "print('number of rules learned from the trees: ' + str(len(pcfg.productions())))\n",
    "print('number of interior nodes in the trees: ' + str(int_nodes))"
   ]
  },
  {
   "cell_type": "markdown",
   "metadata": {},
   "source": [
    "In this grammar, the number of rules is huge, even after simplifying the labels it's a lot of rules to learn. Every word require a rule for itself, so we can expect that the graph of frequency against number of productions will be high at the lowest frequencies and then a long tail to the highest frequencies, for rules like S->NP VP."
   ]
  },
  {
   "cell_type": "code",
   "execution_count": 64,
   "metadata": {},
   "outputs": [
    {
     "data": {
      "image/png": "[encoded data removed]",
      "text/plain": [
       "<matplotlib.figure.Figure at 0x19153ea8978>"
      ]
     },
     "metadata": {},
     "output_type": "display_data"
    }
   ],
   "source": [
    "import matplotlib.pyplot as plt\n",
    "import matplotlib\n",
    "%matplotlib inline\n",
    "\n",
    "dic = {}\n",
    "\n",
    "for count in freqs:\n",
    "    dic[count] = dic.get(count, 0) + 1\n",
    "\n",
    "xs = [key for key in dic]\n",
    "xs.sort()\n",
    "ys = [dic[key] for key in xs]\n",
    "plt.plot(xs, ys)\n",
    "plt.xlabel('frequencies')\n",
    "plt.ylabel('num of productions')\n",
    "plt.title('number of productions as function of frequency')\n",
    "plt.show()"
   ]
  },
  {
   "cell_type": "code",
   "execution_count": 73,
   "metadata": {},
   "outputs": [
    {
     "name": "stdout",
     "output_type": "stream",
     "text": [
      "[0.033954389056471516, 0.793194019567361, 1.0606208634831755, 0.0, 1.946802571878097, 2.3488918483832624, 1.2461763464297109, 1.153734762015568, 1.3242852103933824, 0.36837523498872243, 2.087922418006932, 0.0696331006787771, 1.572119514953029, 0.10786007917919527, 0.573656871649484, 0.013220211326812689, 0.05425532963470421, 1.7957962443017434, 0.007722045993138026, 0.0024712112264871867, 3.295964804254622, 1.1468252984966856, 0.0, 0.6953795268875227, 1.365019347009562, 0.0, 0.03205966447668776, 0.26113659823317875, 0.006401111241060422, 1.0745365628335548, 0.019959450407387364, 0.009569790851157625, 0.16771825922554887, 0.0042849538149662405, 0.17689524389355593, 0.7109017762235189, 0.13099732374194836, 8.73485278581015e-05, 0.00042834568863916686, 0.008408784451078816, 0.00045257818957941773, 0.002470235386361803, 0.19675820911521086, 0.0015941374387568592, 0.27401589475242033, 0.0003544582153860044, 0.0, 0.06091720921122472, 0.055105203511372915, 0.005005888366938814, 2.2512917957401513, 3.382505248650003, 0.0, 0.0, 4.843489582883708, 6.640811393978014, 0.0]\n"
     ]
    }
   ],
   "source": [
    "n = 400\n",
    "freqs2, pcfg2, nodes = pcfg_learn(treebank, n)\n",
    "prods1, prods2 = smooth_prods(pcfg.productions(), pcfg2.productions())\n",
    "print(KL_divergences(prods1, prods2))"
   ]
  },
  {
   "cell_type": "markdown",
   "metadata": {},
   "source": [
    "### 2.3 Induce a PCFG in Chomsky Normal Form"
   ]
  },
  {
   "cell_type": "code",
   "execution_count": 2,
   "metadata": {},
   "outputs": [],
   "source": [
    "def pcfg_cnf_learn(treebank, n_range = (0, 150)):\n",
    "    pcount = {}\n",
    "    lcount = {}\n",
    "    int_nodes = 0\n",
    "    for i in range(n_range[0], n_range[1]):\n",
    "        tree = treebank.parsed_sents()[i]\n",
    "        Tree.chomsky_normal_form(tree, factor='right', horzMarkov=1, vertMarkov=1, childChar='|', parentChar='^')\n",
    "        prods = tree_to_productions(tree)\n",
    "        for p in prods:\n",
    "            pcount[p] = pcount.get(p, 0) + 1\n",
    "            lcount[p.lhs()] = lcount.get(p.lhs(), 0) + 1\n",
    "            int_nodes += 1\n",
    "    productions = [ProbabilisticProduction(p.lhs(), p.rhs(), prob=pcount[p] / lcount[p.lhs()])\n",
    "        for p in pcount]\n",
    "    freqs = [pcount[p] for p in pcount]\n",
    "    return freqs, PCFG(Nonterminal('S'), productions), int_nodes"
   ]
  },
  {
   "cell_type": "code",
   "execution_count": 113,
   "metadata": {},
   "outputs": [
    {
     "name": "stdout",
     "output_type": "stream",
     "text": [
      "number of rules learned from the CNF trees: 2491\n",
      "number of interior nodes in the CNF trees: 148990360\n"
     ]
    }
   ],
   "source": [
    "cnf_freqs, cnf_pcfg, int_nodes = pcfg_cnf_learn(treebank, 150)\n",
    "print('number of rules learned from the CNF trees: ' + str(len(cnf_pcfg.productions())))\n",
    "print('number of interior nodes in the CNF trees: ' + str(int_nodes))"
   ]
  },
  {
   "cell_type": "markdown",
   "metadata": {},
   "source": [
    "### 2.4: Test CFG Independence Assumptions "
   ]
  },
  {
   "cell_type": "code",
   "execution_count": 140,
   "metadata": {},
   "outputs": [],
   "source": [
    "import numpy as np\n",
    "\n",
    "def dist_of_one_LHS(treebank = treebank, child_filt = lambda x: isinstance(x, Tree) and 'NP' in x.label() , father_filt  = lambda x: True, n = 100):\n",
    "    pcount = {}\n",
    "    lcount = {}\n",
    "    prod_s = []\n",
    "    for i in range(n):\n",
    "        tree = treebank.parsed_sents()[i]\n",
    "        prods = tree_to_spec_prod(tree, child_filt, father_filt)\n",
    "        flat(prods, prod_s)\n",
    "        for p in prod_s:\n",
    "            pcount[p] = pcount.get(p, 0) + 1\n",
    "            lcount[p.lhs()] = lcount.get(p.lhs(), 0) + 1\n",
    "        prod_s = []\n",
    "    productions = [ProbabilisticProduction(p.lhs(), p.rhs(), prob=pcount[p] / lcount[p.lhs()])\n",
    "        for p in pcount]\n",
    "    return productions\n",
    "\n",
    "def flat(l, s):\n",
    "    for item in l:\n",
    "        if isinstance(item, list):\n",
    "            flat(item, s)\n",
    "        else:\n",
    "            s.append(item)\n",
    "\n",
    "def tree_to_spec_prod(tree, child_filt, father_filt):\n",
    "    prods = []\n",
    "    if isinstance(tree, Tree):\n",
    "        if father_filt(tree):\n",
    "            prods.append([node_to_prod(node) for node in tree if child_filt(node)])\n",
    "        prods.append([tree_to_spec_prod(child, child_filt, father_filt) for child in tree])\n",
    "    return prods\n",
    "    \n",
    "def node_to_prod(node):\n",
    "    return Production(get_tag(node), [get_tag(child) for child in node])\n",
    "\n",
    "def draw_hist(productions):\n",
    "    labels = [p.rhs() for p in productions]\n",
    "    values = [p.prob() for p in productions]\n",
    "    indSort = np.argsort(values)[::-1]\n",
    "    labels = np.array(labels)[indSort]\n",
    "    values = np.array(values)[indSort]\n",
    "    indexes = np.arange(len(labels))\n",
    "    bar_width = 0.05\n",
    "    plt.bar(indexes, values)\n",
    "    plt.xticks(indexes + bar_width, labels)\n",
    "    plt.xlabel('production')\n",
    "    plt.ylabel('probability')\n",
    "    plt.show()"
   ]
  },
  {
   "cell_type": "code",
   "execution_count": 141,
   "metadata": {},
   "outputs": [
    {
     "data": {
      "image/png": "[encoded data removed]",
      "text/plain": [
       "<matplotlib.figure.Figure at 0x19153b9bd30>"
      ]
     },
     "metadata": {},
     "output_type": "display_data"
    }
   ],
   "source": [
    "all_NP = dist_of_one_LHS()\n",
    "draw_hist(all_NP)"
   ]
  },
  {
   "cell_type": "code",
   "execution_count": 142,
   "metadata": {},
   "outputs": [
    {
     "data": {
      "image/png": "[encoded data removed]",
      "text/plain": [
       "<matplotlib.figure.Figure at 0x19151a9b2b0>"
      ]
     },
     "metadata": {},
     "output_type": "display_data"
    }
   ],
   "source": [
    "below_S = dist_of_one_LHS(father_filt = lambda x: isinstance(x, Tree) and 'S' in x.label())\n",
    "draw_hist(below_S)"
   ]
  },
  {
   "cell_type": "code",
   "execution_count": 143,
   "metadata": {},
   "outputs": [
    {
     "name": "stdout",
     "output_type": "stream",
     "text": [
      "[0.44446372864903927, 1.065351522926016, 0.0]\n"
     ]
    }
   ],
   "source": [
    "below_S, all_NP = smooth_prods(below_S, all_NP)\n",
    "print(KL_divergences(below_S, all_NP))"
   ]
  },
  {
   "cell_type": "code",
   "execution_count": 144,
   "metadata": {},
   "outputs": [
    {
     "data": {
      "image/png": "[encoded data removed]",
      "text/plain": [
       "<matplotlib.figure.Figure at 0x19151a906d8>"
      ]
     },
     "metadata": {},
     "output_type": "display_data"
    }
   ],
   "source": [
    "below_VP = dist_of_one_LHS(father_filt = lambda x: isinstance(x, Tree) and 'VP' in x.label())\n",
    "draw_hist(below_VP)"
   ]
  },
  {
   "cell_type": "code",
   "execution_count": 145,
   "metadata": {},
   "outputs": [
    {
     "name": "stdout",
     "output_type": "stream",
     "text": [
      "[0.5635278489950247]\n"
     ]
    }
   ],
   "source": [
    "below_VP, all_NP = smooth_prods(below_VP, all_NP)\n",
    "print(KL_divergences(below_VP, all_NP))"
   ]
  },
  {
   "cell_type": "code",
   "execution_count": 1,
   "metadata": {},
   "outputs": [
    {
     "ename": "NameError",
     "evalue": "name 'smooth_prods' is not defined",
     "output_type": "error",
     "traceback": [
      "\u001b[1;31m---------------------------------------------------------------------------\u001b[0m",
      "\u001b[1;31mNameError\u001b[0m                                 Traceback (most recent call last)",
      "\u001b[1;32m<ipython-input-1-37e48487ec79>\u001b[0m in \u001b[0;36m<module>\u001b[1;34m()\u001b[0m\n\u001b[1;32m----> 1\u001b[1;33m \u001b[0mbelow_VP\u001b[0m\u001b[1;33m,\u001b[0m \u001b[0mbelow_S\u001b[0m \u001b[1;33m=\u001b[0m \u001b[0msmooth_prods\u001b[0m\u001b[1;33m(\u001b[0m\u001b[0mbelow_VP\u001b[0m\u001b[1;33m,\u001b[0m \u001b[0mbelow_S\u001b[0m\u001b[1;33m)\u001b[0m\u001b[1;33m\u001b[0m\u001b[1;33m\u001b[0m\u001b[0m\n\u001b[0m\u001b[0;32m      2\u001b[0m \u001b[0mprint\u001b[0m\u001b[1;33m(\u001b[0m\u001b[0mKL_divergences\u001b[0m\u001b[1;33m(\u001b[0m\u001b[0mbelow_S\u001b[0m\u001b[1;33m,\u001b[0m \u001b[0mbelow_VP\u001b[0m\u001b[1;33m)\u001b[0m\u001b[1;33m)\u001b[0m\u001b[1;33m\u001b[0m\u001b[1;33m\u001b[0m\u001b[0m\n",
      "\u001b[1;31mNameError\u001b[0m: name 'smooth_prods' is not defined"
     ]
    }
   ],
   "source": [
    "below_VP, below_S = smooth_prods(below_VP, below_S)\n",
    "print(KL_divergences(below_S, below_VP))"
   ]
  },
  {
   "cell_type": "code",
   "execution_count": null,
   "metadata": {},
   "outputs": [],
   "source": []
  }
 ],
 "metadata": {
  "kernelspec": {
   "display_name": "Python 3",
   "language": "python",
   "name": "python3"
  },
  "language_info": {
   "codemirror_mode": {
    "name": "ipython",
    "version": 3
   },
   "file_extension": ".py",
   "mimetype": "text/x-python",
   "name": "python",
   "nbconvert_exporter": "python",
   "pygments_lexer": "ipython3",
   "version": "3.6.7"
  }
 },
 "nbformat": 4,
 "nbformat_minor": 2
}
